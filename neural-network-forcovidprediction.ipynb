{
 "cells": [
  {
   "cell_type": "code",
   "execution_count": 1,
   "metadata": {
    "_cell_guid": "b1076dfc-b9ad-4769-8c92-a6c4dae69d19",
    "_uuid": "8f2839f25d086af736a60e9eeb907d3b93b6e0e5"
   },
   "outputs": [
    {
     "name": "stdout",
     "output_type": "stream",
     "text": [
      "/kaggle/input/covid19-global-forecasting-week-1/submission.csv\n",
      "/kaggle/input/covid19-global-forecasting-week-1/test.csv\n",
      "/kaggle/input/covid19-global-forecasting-week-1/train.csv\n"
     ]
    }
   ],
   "source": [
    
    "import numpy as np ",
    "import pandas as pd \n",
    "\n",
    "import os\n",
    "for dirname, _, filenames in os.walk('/kaggle/input'):\n",
    "    for filename in filenames:\n",
    "        print(os.path.join(dirname, filename))\n",
    "\n",
   ]
  },
  {
   "cell_type": "code",
   "execution_count": 2,
   "metadata": {
    "_cell_guid": "79c7e3d0-c299-4dcb-8224-4455121ee9b0",
    "_uuid": "d629ff2d2480ee46fbb7e2d37f6b5fab8052498a"
   },
   "outputs": [],
   "source": [
    "train_data=pd.read_csv(\"/kaggle/input/covid19-global-forecasting-week-1/train.csv\")\n",
    "test_data=pd.read_csv(\"/kaggle/input/covid19-global-forecasting-week-1/test.csv\")"
   ]
  },
  {
   "cell_type": "code",
   "execution_count": 3,
   "metadata": {},
   "outputs": [],
   "source": [
    "#Splitting Data and labels \n",
    "X_train=train_data[[\"Lat\",\"Long\",\"Date\"]]\n",
    "Y_train=train_data[[\"ConfirmedCases\",\"Fatalities\"]]\n",
    "X_test=test_data[[\"Lat\",\"Long\",\"Date\"]]"
   ]
  },
  {
   "cell_type": "code",
   "execution_count": 4,
   "metadata": {},
   "outputs": [],
   "source": [
    "#Splitting date into seperate months and days attributes\n",
    "new=X_train[\"Date\"].str.split(\"-\", n = 2, expand = True) \n",
    "X_train[\"Month\"]=new[1].astype(np.int)\n",
    "X_train[\"Day\"]=new[2].astype(np.int)\n",
    "X_train.drop([\"Date\"], axis=1,inplace=True)\n",
    "new=X_test[\"Date\"].str.split(\"-\", n = 2, expand = True) \n",
    "X_test[\"Month\"]=new[1].astype(np.int)\n",
    "X_test[\"Day\"]=new[2].astype(np.int)\n",
    "X_test.drop([\"Date\"], axis=1,inplace=True)"
   ]
  },
  {
   "cell_type": "code",
   "execution_count": 5,
   "metadata": {},
   "outputs": [],
   "source": [
    "#creating a Model class\n",
    "class Model:\n",
    "    @classmethod\n",
    "    def relu(self,x):\n",
    "        return np.maximum(0,x)\n",
    "    def initialize_params(self,layers):\n",
    "        params={}\n",
    "        for i in range(1,len(layers)):\n",
    "            w=np.random.randn(layers[i-1],layers[i])*0.01\n",
    "            b=np.zeros((layers[i],1))\n",
    "            params.update({\"W\"+str(i):w})\n",
    "            params.update({\"b\"+str(i):b})\n",
    "        return (params)\n",
    "    def forward(self,params, nof_layers, activations):\n",
    "        for i in range(1,nof_layers):\n",
    "            a=self.relu(np.dot(params[\"W\"+str(i)].T,activations[\"A\"+str(i-1)])+params[\"b\"+str(i)])\n",
    "            activations.update({\"A\"+str(i):a})\n",
    "        return (activations)\n",
    "    def cost(self,activations, Y, nof_layers):\n",
    "        m=Y.shape[1]\n",
    "        lhs=(activations[\"A\"+str(nof_layers-1)]-Y)**2\n",
    "        cost=np.sum(lhs,axis=0,keepdims=True)\n",
    "        cost=(1/m)*(np.sum(cost,axis=1)**0.5)\n",
    "        return (cost)\n",
    "    def calc_gradient(self,Y, params, activations, nof_layers):\n",
    "        grads={}\n",
    "        m=Y.shape[1]\n",
    "        Alast=activations[\"A\"+str(nof_layers-1)]\n",
    "        dAlast= (2/m)*(Alast-Y)\n",
    "        dAlastT=dAlast.T\n",
    "        for i in range(nof_layers-1,0,-1):\n",
    "            if i==nof_layers-1:\n",
    "                dWl=np.dot(activations[\"A\"+str(i-1)],dAlastT)\n",
    "                grads.update({\"dW\"+str(i):dWl})\n",
    "                grads.update({\"db\"+str(i):dAlast})\n",
    "                W=params[\"W\"+str(i)]\n",
    "            else:\n",
    "                dWl=np.dot(np.dot(activations[\"A\"+str(i-1)],dAlastT),W.T)\n",
    "                grads.update({\"dW\"+str(i):dWl})\n",
    "                dbl=np.dot(W,dAlast)\n",
    "                grads.update({\"db\"+str(i):dbl})\n",
    "                W=np.dot(params[\"W\"+str(i)],W)\n",
    "        return (grads)\n",
    "    def backpropagate(self,params, grads, lr, nof_layers):\n",
    "        for i in range(1,nof_layers):\n",
    "            tW=params[\"W\"+str(i)]-(lr*grads[\"dW\"+str(i)])\n",
    "            params.update({\"W\"+str(i):tW})\n",
    "            tb=params[\"b\"+str(i)]-(lr*np.sum(grads[\"db\"+str(i)],axis=1, keepdims=True))\n",
    "            params.update({\"b\"+str(i):tb})\n",
    "        return (params)\n",
    "    def fit(self,X, Y, params, layers, noi=1000, lr=0.001):\n",
    "        activations={\"A0\":X}\n",
    "        nof_layers=len(layers)\n",
    "        for i in range(noi):\n",
    "            activations=self.forward(params, nof_layers, activations)\n",
    "            cost= self.cost(activations, Y, nof_layers)\n",
    "            print(\"Cost after iteration \"+str(i+1)+\" : \"+str(cost))\n",
    "            grads=self.calc_gradient(Y, params, activations, nof_layers)\n",
    "            params=self.backpropagate(params, grads, lr, nof_layers)\n",
    "        return (params)\n",
    "    def predict(self,X, params, nof_layers):\n",
    "        activations={\"A0\":X}\n",
    "        activations=self.forward(params, nof_layers, activations)\n",
    "        return (activations[\"A\"+str(nof_layers-1)].astype(np.int))"
   ]
  },
  {
   "cell_type": "code",
   "execution_count": 6,
   "metadata": {},
   "outputs": [],
   "source": [
    "layers=[4,2]\n",
    "model=Model()\n",
    "params=model.initialize_params(layers)"
   ]
  },
  {
   "cell_type": "code",
   "execution_count": 7,
   "metadata": {},
   "outputs": [],
   "source": [
    "params=model.fit((X_train.values).T, (Y_train.values).T, params,layers, noi=500000, lr=0.0002)"
   ]
  },
  {
   "cell_type": "code",
   "execution_count": 8,
   "metadata": {},
   "outputs": [],
   "source": [
    "pred=model.predict((X_test.values).T, params, len(layers))\n",
    "pred"
   ]
  },
  {
   "cell_type": "code",
   "execution_count": 9,
   "metadata": {},
   "outputs": [],
   "source": [
    "forecast_ids=test_data[[\"ForecastId\"]].values"
   ]
  },
  {
   "cell_type": "code",
   "execution_count": 10,
   "metadata": {},
   "outputs": [],
   "source": [
    "submit=zip(forecast_ids, (pred[0].T).reshape(12212,1), (pred[1].T).reshape(12212,1))\n",
    "submission_df = pd.DataFrame(columns=[\"ForecastId\",\"ConfirmedCases\",\"Fatalities\"])"
   ]
  },
  {
   "cell_type": "code",
   "execution_count": 11,
   "metadata": {},
   "outputs": [],
   "source": [
    "for i in submit:\n",
    "    submission_df = submission_df.append({\"ForecastId\":i[0][0],\n",
    "                                          \"ConfirmedCases\":i[1][0],\n",
    "                                          \"Fatalities\":i[2][0]},\n",
    "                                         ignore_index=True)"
   ]
  },
  {
   "cell_type": "code",
   "execution_count": 12,
   "metadata": {},
   "outputs": [],
   "source": [
    "submission_df.to_csv(\"submission.csv\",index=False)"
   ]
  }
 ],
 "metadata": {
  "kernelspec": {
   "display_name": "Python 3",
   "language": "python",
   "name": "python3"
  },
  "language_info": {
   "codemirror_mode": {
    "name": "ipython",
    "version": 3
   },
   "file_extension": ".py",
   "mimetype": "text/x-python",
   "name": "python",
   "nbconvert_exporter": "python",
   "pygments_lexer": "ipython3",
   "version": "3.6.6"
  }
 },
 "nbformat": 4,
 "nbformat_minor": 4
}
